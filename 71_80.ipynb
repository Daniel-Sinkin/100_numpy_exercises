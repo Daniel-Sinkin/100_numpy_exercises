{
 "cells": [
  {
   "cell_type": "code",
   "execution_count": 1,
   "metadata": {},
   "outputs": [],
   "source": [
    "import subprocess\n",
    "import sys\n",
    "\n",
    "import json\n",
    "\n",
    "import numpy as np\n",
    "\n",
    "import timeit\n",
    "import matplotlib.pyplot as plt"
   ]
  },
  {
   "cell_type": "code",
   "execution_count": 2,
   "metadata": {},
   "outputs": [],
   "source": [
    "#### 70. Consider the vector [1, 2, 3, 4, 5], how to build a new vector with 3 consecutive zeros interleaved between each value? (★★★)"
   ]
  },
  {
   "cell_type": "code",
   "execution_count": 3,
   "metadata": {},
   "outputs": [],
   "source": [
    "#### 71. Consider an array of dimension (5,5,3), how to mulitply it by an array with dimensions (5,5)? (★★★)"
   ]
  },
  {
   "cell_type": "code",
   "execution_count": 4,
   "metadata": {},
   "outputs": [
    {
     "name": "stdout",
     "output_type": "stream",
     "text": [
      "[[-0.8519482   0.2126255  -0.89265491]\n",
      " [ 0.88251863  1.19658027  0.20003868]\n",
      " [-0.38033968  0.14525026 -0.25603755]\n",
      " [-0.66479126 -0.41777796  0.12305976]\n",
      " [ 0.8513774   0.41682765 -0.79558598]\n",
      " [-1.8116868  -0.99533316 -0.56498876]\n",
      " [ 0.90341554 -0.2427454  -1.64602017]\n",
      " [ 1.15811154  1.09589927  0.11841377]\n",
      " [-1.35878162 -0.48216199  0.14599539]\n",
      " [ 0.23073132 -0.80159304 -0.69721493]]\n",
      "\n",
      "[[ 0.88251863  1.19658027  0.20003868]\n",
      " [-0.8519482   0.2126255  -0.89265491]\n",
      " [-0.38033968  0.14525026 -0.25603755]\n",
      " [-0.66479126 -0.41777796  0.12305976]\n",
      " [ 0.8513774   0.41682765 -0.79558598]\n",
      " [-1.8116868  -0.99533316 -0.56498876]\n",
      " [ 0.90341554 -0.2427454  -1.64602017]\n",
      " [ 1.15811154  1.09589927  0.11841377]\n",
      " [-1.35878162 -0.48216199  0.14599539]\n",
      " [ 0.23073132 -0.80159304 -0.69721493]]\n"
     ]
    }
   ],
   "source": [
    "#### 72. How to swap two rows of an array? (★★★)\n",
    "_rng = np.random.default_rng(0x72)\n",
    "\n",
    "_72 = _rng.normal(0, 1, (10, 3))\n",
    "\n",
    "idx0 = 0\n",
    "idx1 = 1\n",
    "\n",
    "print(_72)\n",
    "np.add(_72[idx0], _72[idx1], out = _72[idx1])\n",
    "np.subtract(_72[idx1], _72[idx0], out = _72[idx0])\n",
    "np.subtract(_72[idx1], _72[idx0], out = _72[idx1])\n",
    "print()\n",
    "print(_72)"
   ]
  },
  {
   "cell_type": "code",
   "execution_count": null,
   "metadata": {},
   "outputs": [],
   "source": []
  }
 ],
 "metadata": {
  "kernelspec": {
   "display_name": ".venv",
   "language": "python",
   "name": "python3"
  },
  "language_info": {
   "codemirror_mode": {
    "name": "ipython",
    "version": 3
   },
   "file_extension": ".py",
   "mimetype": "text/x-python",
   "name": "python",
   "nbconvert_exporter": "python",
   "pygments_lexer": "ipython3",
   "version": "3.12.2"
  }
 },
 "nbformat": 4,
 "nbformat_minor": 2
}
