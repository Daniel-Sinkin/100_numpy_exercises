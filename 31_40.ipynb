{
 "cells": [
  {
   "cell_type": "code",
   "execution_count": 1,
   "metadata": {},
   "outputs": [],
   "source": [
    "import subprocess\n",
    "import sys\n",
    "\n",
    "import json\n",
    "\n",
    "import numpy as np"
   ]
  },
  {
   "cell_type": "code",
   "execution_count": 2,
   "metadata": {},
   "outputs": [],
   "source": [
    "#### 31. How to ignore all numpy warnings (not recommended)? (★☆☆)\n",
    "# np.seterr(all=\"ignore\")\n",
    "# Alternativly\n",
    "# import warnings\n",
    "# warnings.filterwarnings(\"ignore\")"
   ]
  },
  {
   "cell_type": "code",
   "execution_count": 3,
   "metadata": {},
   "outputs": [
    {
     "name": "stderr",
     "output_type": "stream",
     "text": [
      "/var/folders/dq/z5syqybd1z96g4ny_n5nr9rc0000gn/T/ipykernel_4893/1627491694.py:4: RuntimeWarning: invalid value encountered in sqrt\n",
      "  assert np.sqrt(-1) != np.emath.sqrt(-1)\n"
     ]
    }
   ],
   "source": [
    "#### 32. Is the following expressions true? (★☆☆)\n",
    "# From np.emath.sqrt docstring:\n",
    "# > For negative input elements, a complex value is returned (unlike `numpy.sqrt` which returns NaN).\n",
    "assert np.sqrt(-1) != np.emath.sqrt(-1)"
   ]
  },
  {
   "cell_type": "code",
   "execution_count": 9,
   "metadata": {},
   "outputs": [
    {
     "name": "stdout",
     "output_type": "stream",
     "text": [
      "Today is 2024-04-27, tomorrow is 2024-04-28 and yesterday was 2024-04-26.\n"
     ]
    }
   ],
   "source": [
    "#### 33. How to get the dates of yesterday, today and tomorrow? (★☆☆)\n",
    "_33_today = np.datetime64(\"today\", \"D\")\n",
    "print(f\"Today is {_33_today}, tomorrow is {_33_today + 1} and yesterday was {_33_today - 1}.\")"
   ]
  },
  {
   "cell_type": "code",
   "execution_count": 15,
   "metadata": {},
   "outputs": [
    {
     "data": {
      "text/plain": [
       "array(['2016-07-01', '2016-07-02', '2016-07-03', '2016-07-04',\n",
       "       '2016-07-05', '2016-07-06', '2016-07-07', '2016-07-08',\n",
       "       '2016-07-09', '2016-07-10', '2016-07-11', '2016-07-12',\n",
       "       '2016-07-13', '2016-07-14', '2016-07-15', '2016-07-16',\n",
       "       '2016-07-17', '2016-07-18', '2016-07-19', '2016-07-20',\n",
       "       '2016-07-21', '2016-07-22', '2016-07-23', '2016-07-24',\n",
       "       '2016-07-25', '2016-07-26', '2016-07-27', '2016-07-28',\n",
       "       '2016-07-29', '2016-07-30', '2016-07-31'], dtype='datetime64[D]')"
      ]
     },
     "execution_count": 15,
     "metadata": {},
     "output_type": "execute_result"
    }
   ],
   "source": [
    "#### 34. How to get all the dates corresponding to the month of July 2016? (★★☆)\n",
    "start_date = np.datetime64(\"2016-07-01\")\n",
    "end_date = np.datetime64(\"2016-08-01\")\n",
    "\n",
    "_34 = np.arange(start_date, end_date)\n",
    "_34"
   ]
  },
  {
   "cell_type": "code",
   "execution_count": 48,
   "metadata": {},
   "outputs": [],
   "source": [
    "#### 35. How to compute ((A+B)*(-A/2)) in place (without copy)? (★★☆)\n",
    "_rng = np.random.default_rng(0x42)\n",
    "_35_A = _rng.normal(0, 1.0, size = (5, 5))\n",
    "_35_B = _rng.normal(0, 1.0, size = (5, 5))\n",
    "_35_A_copy = _35_A.copy()\n",
    "_35_B_copy = _35_B.copy()\n",
    "\n",
    "np.add(_35_A, _35_B, out = _35_B)\n",
    "np.divide(_35_A, -2.0, out = _35_A)\n",
    "np.multiply(_35_A, _35_B, out = _35_A)\n",
    "assert np.allclose(_35_A, (_35_A_copy + _35_B_copy) * (- _35_A_copy / 2))"
   ]
  },
  {
   "cell_type": "code",
   "execution_count": 81,
   "metadata": {},
   "outputs": [],
   "source": [
    "#### 36. Extract the integer part of a random array of positive numbers using 4 different methods (★★☆)\n",
    "_rng = np.random.default_rng(0x42)\n",
    "_36 = _rng.uniform(-5, 12, size = (5, 5))\n",
    "\n",
    "# This works even for negative ones\n",
    "_36_1 = np.where(_36 >= 0, np.floor(_36), np.ceil(_36))\n",
    "_36_2 = _36.astype(np.int64)\n",
    "_36_3 = np.trunc(_36)\n",
    "_36_4 = np.sign(_36) * (np.floor(np.sign(_36) * _36))\n",
    "\n",
    "assert np.allclose(_36_1, _36_2, atol = 1e-4)\n",
    "assert np.allclose(_36_2, _36_3, atol = 1e-4)\n",
    "assert np.allclose(_36_3, _36_4, atol = 1e-4)"
   ]
  },
  {
   "cell_type": "code",
   "execution_count": 123,
   "metadata": {},
   "outputs": [
    {
     "data": {
      "text/plain": [
       "array([[ 1.62309994, -1.61975251, -1.47814569, -3.1787563 ,  4.65355457],\n",
       "       [-4.65526222,  1.50548414,  3.35884881,  1.32313812, -0.53220884],\n",
       "       [ 0.87884011, -0.37682895,  2.91871186, -2.32871444,  0.90799143],\n",
       "       [-0.47048366, -0.16575231, -3.67504411,  0.23976928,  7.0715108 ],\n",
       "       [-0.21752302, -1.20005224,  1.17818913,  2.97139015,  1.26799599]])"
      ]
     },
     "execution_count": 123,
     "metadata": {},
     "output_type": "execute_result"
    }
   ],
   "source": [
    "#### 37. Create a 5x5 matrix with row values ranging from 0 to 4 (★★☆)\n",
    "_rng = np.random.default_rng(0x42)\n",
    "\n",
    "_37 = _rng.normal(0, 3.0, size = (5, 5))\n",
    "_37[:, 4] = np.arange(0, 4 + 1) - _37[:, :4].sum(axis = 1)\n",
    "\n",
    "assert np.allclose(_37.sum(axis = 1), np.arange(0, 4 + 1))\n",
    "_37"
   ]
  },
  {
   "cell_type": "code",
   "execution_count": 128,
   "metadata": {},
   "outputs": [
    {
     "data": {
      "text/plain": [
       "array([ 84,  38, -85,  24,  -5,  69, -79, -12,  -7,  81])"
      ]
     },
     "execution_count": 128,
     "metadata": {},
     "output_type": "execute_result"
    }
   ],
   "source": [
    "#### 38. Consider a generator function that generates 10 integers and use it to build an array (★☆☆)\n",
    "_rng = np.random.default_rng(0x42)\n",
    "_38 = _rng.uniform(-100, 100, size = 10).astype(np.int64)\n",
    "_38"
   ]
  },
  {
   "cell_type": "code",
   "execution_count": 133,
   "metadata": {},
   "outputs": [
    {
     "data": {
      "text/plain": [
       "array([0.92373388, 0.69281813, 0.07293478, 0.62425381, 0.4725191 ,\n",
       "       0.84901876, 0.10282827, 0.43752488, 0.46004468, 0.90878931])"
      ]
     },
     "execution_count": 133,
     "metadata": {},
     "output_type": "execute_result"
    }
   ],
   "source": [
    "#### 39. Create a vector of size 10 with values ranging from 0 to 1, both excluded (★★☆)\n",
    "_rng = np.random.default_rng(0x42)\n",
    "_38 = _rng.uniform(0, 1, size = 10)\n",
    "np.where(np.isclose(_38, 0), 0.3, _38)\n",
    "np.where(np.isclose(_38, 1.0), 0.7, _38)"
   ]
  },
  {
   "cell_type": "code",
   "execution_count": 135,
   "metadata": {},
   "outputs": [
    {
     "data": {
      "text/plain": [
       "array([-1.55175407, -1.32601428, -1.05958543, -0.5399175 , -0.49271523,\n",
       "        0.28548501,  0.44104604,  0.50182805,  0.54103331,  1.11961627])"
      ]
     },
     "execution_count": 135,
     "metadata": {},
     "output_type": "execute_result"
    }
   ],
   "source": [
    "#### 40. Create a random vector of size 10 and sort it (★★☆)\n",
    "_rng = np.random.default_rng(0x42)\n",
    "_40 = _rng.normal(0, 1, size = 10)\n",
    "_40.sort()\n",
    "_40"
   ]
  },
  {
   "cell_type": "code",
   "execution_count": null,
   "metadata": {},
   "outputs": [],
   "source": []
  }
 ],
 "metadata": {
  "kernelspec": {
   "display_name": ".venv",
   "language": "python",
   "name": "python3"
  },
  "language_info": {
   "codemirror_mode": {
    "name": "ipython",
    "version": 3
   },
   "file_extension": ".py",
   "mimetype": "text/x-python",
   "name": "python",
   "nbconvert_exporter": "python",
   "pygments_lexer": "ipython3",
   "version": "3.12.2"
  }
 },
 "nbformat": 4,
 "nbformat_minor": 2
}
