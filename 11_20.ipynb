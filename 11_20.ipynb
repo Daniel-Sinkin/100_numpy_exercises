{
 "cells": [
  {
   "cell_type": "code",
   "execution_count": null,
   "metadata": {},
   "outputs": [],
   "source": [
    "import subprocess\n",
    "import sys\n",
    "\n",
    "import json\n",
    "\n",
    "import numpy as np\n",
    "from numpy import float32"
   ]
  },
  {
   "cell_type": "code",
   "execution_count": null,
   "metadata": {},
   "outputs": [],
   "source": [
    "#### 11. Create a 3x3 identity matrix (★☆☆)\n",
    "_11 = np.eye(3, dtype=float32)\n",
    "_11"
   ]
  },
  {
   "cell_type": "code",
   "execution_count": null,
   "metadata": {},
   "outputs": [],
   "source": [
    "#### 12. Create a 3x3x3 array with random values (★☆☆)\n",
    "_rng = np.random.default_rng(0x42)\n",
    "_12 = _rng.normal(0, 1.0, size = (3, 3))\n",
    "_12"
   ]
  },
  {
   "cell_type": "code",
   "execution_count": null,
   "metadata": {},
   "outputs": [],
   "source": [
    "#### 13. Create a 10x10 array with random values and find the minimum and maximum values (★☆☆)\n",
    "_rng = np.random.default_rng(0x42)\n",
    "_13 = _rng.normal(0, 1.0, size = (10, 10))\n",
    "_13.min(), _13.max()"
   ]
  },
  {
   "cell_type": "code",
   "execution_count": null,
   "metadata": {},
   "outputs": [],
   "source": [
    "#### 14. Create a random vector of size 30 and find the mean value (★☆o☆)\n",
    "_rng = np.random.default_rng(0x42)\n",
    "_14 = _rng.normal(0, 1.0, size = 30)\n",
    "_14.mean(), _14.sum() / len(_14)"
   ]
  },
  {
   "cell_type": "code",
   "execution_count": null,
   "metadata": {},
   "outputs": [],
   "source": [
    "#### 15. Create a 2d array with 1 on the border and 0 inside (★☆☆)\n",
    "_15 = np.zeros(shape=(6, 6))\n",
    "_15[:, (0, -1)] = 1\n",
    "_15[(0, -1), :] = 1\n",
    "_15"
   ]
  },
  {
   "cell_type": "code",
   "execution_count": null,
   "metadata": {},
   "outputs": [],
   "source": [
    "#### 16. How to add a border (filled with 0's) around an existing array? (★☆☆)\n",
    "_16 = np.zeros(shape=(_15.shape[0] + 2, _15.shape[1] + 2))\n",
    "_16[1:-1, 1:-1] = _15\n",
    "_16"
   ]
  },
  {
   "cell_type": "code",
   "execution_count": null,
   "metadata": {},
   "outputs": [],
   "source": [
    "#### 17. What is the result of the following expression? (★☆☆)\n",
    "\"\"\"\n",
    "```python\n",
    "0 * np.nan\n",
    "np.nan == np.nan\n",
    "np.inf > np.nan\n",
    "np.nan - np.nan\n",
    "np.nan in set([np.nan])\n",
    "0.3 == 3 * 0.1\n",
    "```\n",
    "\"\"\"\n",
    "assert np.isnan(0 * np.nan)\n",
    "assert not (np.nan == np.nan)\n",
    "assert not (np.inf > np.nan)\n",
    "assert np.isnan(np.nan - np.nan)\n",
    "assert (np.nan in set([np.nan]))\n",
    "assert not (0.3 == 3 * 0.1) # Only this is interesting, everything else is arbitrary numpy stuff"
   ]
  },
  {
   "cell_type": "code",
   "execution_count": null,
   "metadata": {},
   "outputs": [],
   "source": [
    "#### 18. Create a 5x5 matrix with values 1,2,3,4 just below the diagonal (★☆☆)\n",
    "_18 = np.zeros((5, 5), dtype=float32)\n",
    "for x in range(4):\n",
    "    _18[x + 1, x] = x + 1\n",
    "_18"
   ]
  },
  {
   "cell_type": "code",
   "execution_count": null,
   "metadata": {},
   "outputs": [],
   "source": [
    "#### 19. Create a 8x8 matrix and fill it with a checkerboard pattern (★☆☆)\n",
    "_19 = np.zeros((8, 8), dtype=float32)\n",
    "_19[::2, ::2] = 1\n",
    "_19[1::2, 1::2] = 1\n",
    "_19"
   ]
  },
  {
   "cell_type": "code",
   "execution_count": null,
   "metadata": {},
   "outputs": [],
   "source": [
    "#### 20. Consider a (6,7,8) shape array, what is the index (x,y,z) of the 100th element? (★☆☆)\n",
    "_20 = np.arange(0, 6 * 7 * 8).reshape((6, 7, 8))\n",
    "\n",
    "num_x = 100 // (7 * 8) # 1\n",
    "temp = 100 % (7 * 8) # 44 == 100 - 7 * 8\n",
    "num_y = temp // 8 # 5\n",
    "num_z = temp % 8 # 4\n",
    "assert 100 == _20[(num_x, num_y, num_z)]\n",
    "print(f\"{(num_x, num_y, num_z)=}\")"
   ]
  },
  {
   "cell_type": "code",
   "execution_count": null,
   "metadata": {},
   "outputs": [],
   "source": []
  }
 ],
 "metadata": {
  "kernelspec": {
   "display_name": ".venv",
   "language": "python",
   "name": "python3"
  },
  "language_info": {
   "codemirror_mode": {
    "name": "ipython",
    "version": 3
   },
   "file_extension": ".py",
   "mimetype": "text/x-python",
   "name": "python",
   "nbconvert_exporter": "python",
   "pygments_lexer": "ipython3",
   "version": "3.12.2"
  }
 },
 "nbformat": 4,
 "nbformat_minor": 2
}
