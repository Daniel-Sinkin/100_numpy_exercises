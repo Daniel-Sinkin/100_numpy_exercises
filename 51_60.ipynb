{
 "cells": [
  {
   "cell_type": "code",
   "execution_count": 1,
   "metadata": {},
   "outputs": [],
   "source": [
    "import subprocess\n",
    "import sys\n",
    "\n",
    "import json\n",
    "\n",
    "import numpy as np\n",
    "\n",
    "import timeit\n",
    "import matplotlib.pyplot as plt"
   ]
  },
  {
   "cell_type": "code",
   "execution_count": 3,
   "metadata": {},
   "outputs": [],
   "source": [
    "#### 51. Create a structured array representing a position (x,y) and a color (r,g,b) (★★☆)\n",
    "# See also problem 23\n",
    "_51_rgba_color_dtype = np.dtype([\n",
    "    ('x', np.float32),\n",
    "    ('y', np.float32),\n",
    "    ('r', np.uint8),\n",
    "    ('g', np.uint8),\n",
    "    ('b', np.uint8),\n",
    "])"
   ]
  },
  {
   "cell_type": "code",
   "execution_count": 61,
   "metadata": {},
   "outputs": [],
   "source": [
    "#### 52. Consider a random vector with shape (100,2) representing coordinates, find point by point distances (★★☆)\n",
    "_rng = np.random.default_rng(0x52)\n",
    "\n",
    "n = 5\n",
    "_52 = _rng.normal(0, 1, size = (5, 2))\n",
    "\n",
    "# This has two big problems, we're looping instead of using broadcasting and the dists matrix is much larger\n",
    "# than how we need it, we only need a strict upper (or lower) triangle matrix.\n",
    "# The memory part doesn't matter, but the broadcasting improvement should be implemented.\n",
    "dists = np.zeros((n, n))\n",
    "for c1 in range(n):\n",
    "    for c2 in range(n):\n",
    "        dists[c1, c2] = np.sqrt(((_52[c1] - _52[c2])**2).sum())\n",
    "dists\n",
    "\n",
    "# Better solution:\n",
    "diffs = _52[:, np.newaxis, :] - _52[np.newaxis, :, :]\n",
    "dists2 = np.sqrt((diffs**2).sum(axis=2))"
   ]
  },
  {
   "cell_type": "code",
   "execution_count": 66,
   "metadata": {},
   "outputs": [
    {
     "data": {
      "text/plain": [
       "array([1, 1, 1, 0, 0], dtype=int32)"
      ]
     },
     "execution_count": 66,
     "metadata": {},
     "output_type": "execute_result"
    }
   ],
   "source": [
    "#### 53. How to convert a float (32 bits) array into an integer (32 bits) in place?\n",
    "_rng = np.random.default_rng(0x52)\n",
    "_53 = _rng.normal(0, 1, 5).astype(np.float32)\n",
    "_53_int = _53.astype(np.int32, copy=False)\n",
    "_53_int"
   ]
  },
  {
   "cell_type": "code",
   "execution_count": 70,
   "metadata": {},
   "outputs": [
    {
     "data": {
      "text/plain": [
       "array([[ 1.,  2.,  3.,  4.,  5.],\n",
       "       [ 6., nan, nan,  7.,  8.],\n",
       "       [nan, nan,  9., 10., 11.]], dtype=float32)"
      ]
     },
     "execution_count": 70,
     "metadata": {},
     "output_type": "execute_result"
    }
   ],
   "source": [
    "#### 54. How to read the following file? (★★☆)\n",
    "from io import StringIO\n",
    "\n",
    "_54_text = \"\"\"\n",
    "1, 2, 3, 4, 5\n",
    "6,  ,  , 7, 8\n",
    " ,  , 9,10,11\n",
    "\"\"\"\n",
    "np.genfromtxt(StringIO(_54_text), delimiter=\",\", dtype = np.float32, filling_values=np.nan)"
   ]
  },
  {
   "cell_type": "code",
   "execution_count": 82,
   "metadata": {},
   "outputs": [
    {
     "name": "stdout",
     "output_type": "stream",
     "text": [
      "(0, 0, 0) 1.7281629\n",
      "(0, 0, 1) 1.0269761\n",
      "(0, 0, 2) 1.108406\n",
      "(0, 1, 0) -0.9711915\n",
      "(0, 1, 1) -0.60389626\n",
      "(0, 1, 2) -0.75932604\n",
      "(1, 0, 0) -1.7068653\n",
      "(1, 0, 1) -0.414562\n",
      "(1, 0, 2) 0.86499995\n",
      "(1, 1, 0) 0.19078933\n",
      "(1, 1, 1) -0.21903157\n",
      "(1, 1, 2) -1.5436639\n",
      "(2, 0, 0) 1.8427534\n",
      "(2, 0, 1) -1.4766527\n",
      "(2, 0, 2) 1.1324579\n",
      "(2, 1, 0) -0.8171581\n",
      "(2, 1, 1) 0.16262788\n",
      "(2, 1, 2) 0.101823494\n"
     ]
    }
   ],
   "source": [
    "#### 55. What is the equivalent of enumerate for numpy arrays? (★★☆)\n",
    "_rng = np.random.default_rng(0x52)\n",
    "_55 = _rng.normal(0, 1, (3, 2, 3)).astype(np.float32)\n",
    "\n",
    "for idx, x in np.ndenumerate(_55):\n",
    "    print(idx, x)"
   ]
  },
  {
   "cell_type": "code",
   "execution_count": 85,
   "metadata": {},
   "outputs": [
    {
     "data": {
      "text/plain": [
       "array([[-1.6479093 , -0.25462016,  0.6708038 ,  0.7228996 , -0.80873966],\n",
       "       [ 0.51022094,  0.3950654 ,  0.11043056,  0.22358987, -1.3446206 ],\n",
       "       [-0.13632324, -0.21830979,  1.602185  ,  0.09255192, -2.451026  ],\n",
       "       [ 1.1897782 ,  1.6874334 , -0.0354345 ,  1.731924  ,  0.91101205],\n",
       "       [ 0.10659432, -1.6231908 , -1.0537273 ,  0.02142728,  0.22608486]],\n",
       "      dtype=float32)"
      ]
     },
     "execution_count": 85,
     "metadata": {},
     "output_type": "execute_result"
    }
   ],
   "source": [
    "#### 56. Generate a generic 2D Gaussian-like array (★★☆)\n",
    "_rng = np.random.default_rng(0x56)\n",
    "_56 = _rng.normal(0, 1, (5, 5)).astype(np.float32)\n",
    "_56"
   ]
  },
  {
   "cell_type": "code",
   "execution_count": 96,
   "metadata": {},
   "outputs": [],
   "source": [
    "#### 57. How to randomly place p elements in a 2D array? (★★☆)\n",
    "_rng = np.random.default_rng(0x57)\n",
    "_57 = np.zeros((5, 7))\n",
    "_57 = np.where(_rng.choice([True, False], _57.shape), 1, _57)"
   ]
  },
  {
   "cell_type": "code",
   "execution_count": 110,
   "metadata": {},
   "outputs": [
    {
     "data": {
      "text/plain": [
       "array([[-0.2746867 , -0.08338013, -0.60160101,  0.89828293,  0.06138491],\n",
       "       [ 0.5635966 ,  0.59340119, -0.86919332,  1.13936004, -1.42716451],\n",
       "       [-1.41823169, -0.86379671, -0.47512984,  0.71911068,  2.03804756],\n",
       "       [-0.89731246,  0.20202847,  0.24669589,  0.38999539,  0.0585927 ],\n",
       "       [ 0.61561159, -0.41748136, -0.39920759, -0.64757707,  0.84865443],\n",
       "       [-0.45438969,  0.31567042, -0.5927223 , -0.04815004,  0.77959162],\n",
       "       [ 0.5499958 , -1.19627291,  1.10427294, -0.97876266,  0.52076683],\n",
       "       [ 1.38550516, -0.73004133,  0.94381635, -0.58748572, -1.01179446]])"
      ]
     },
     "execution_count": 110,
     "metadata": {},
     "output_type": "execute_result"
    }
   ],
   "source": [
    "#### 58. Subtract the mean of each row of a matrix (★★☆)\n",
    "_rng = np.random.default_rng(0x58)\n",
    "_58 = _rng.normal(0, 1, (8, 5))\n",
    "_58 - _58.mean(axis = 1)[:, np.newaxis]"
   ]
  },
  {
   "cell_type": "code",
   "execution_count": 118,
   "metadata": {},
   "outputs": [
    {
     "name": "stdout",
     "output_type": "stream",
     "text": [
      "[[[-0.511917   -0.27390557  0.29799124  1.07507955]\n",
      "  [ 0.11782752  0.3367676   0.51608631  0.94066239]\n",
      "  [-1.15096743 -0.88881272  0.57823553  1.07183762]]\n",
      "\n",
      " [[-0.60053665  0.01505873  0.15784276  0.34355859]\n",
      "  [-2.11071255 -0.97452601 -0.10107949  0.75299995]\n",
      "  [-0.7767985  -0.73390124 -0.07100698  0.92716733]]]\n"
     ]
    }
   ],
   "source": [
    "#### 59. How to sort an array by the nth column? (★★☆)\n",
    "_rng = np.random.default_rng(0x59)\n",
    "_59 = _rng.normal(0, 1, (2, 3, 4))\n",
    "n = 2\n",
    "_59.sort(axis = n)\n",
    "print(_59)"
   ]
  },
  {
   "cell_type": "code",
   "execution_count": 131,
   "metadata": {},
   "outputs": [
    {
     "data": {
      "text/plain": [
       "False"
      ]
     },
     "execution_count": 131,
     "metadata": {},
     "output_type": "execute_result"
    }
   ],
   "source": [
    "#### 60. How to tell if a given 2D array has null columns? (★★☆)\n",
    "# Assuming they mean columns that sum to 0\n",
    "_rng = np.random.default_rng(0x60)\n",
    "_60 = _rng.normal(0, 1, (4, 5))\n",
    "np.isclose(_60.sum(axis = 0), 0.0, atol = 1e-4).any()"
   ]
  }
 ],
 "metadata": {
  "kernelspec": {
   "display_name": ".venv",
   "language": "python",
   "name": "python3"
  },
  "language_info": {
   "codemirror_mode": {
    "name": "ipython",
    "version": 3
   },
   "file_extension": ".py",
   "mimetype": "text/x-python",
   "name": "python",
   "nbconvert_exporter": "python",
   "pygments_lexer": "ipython3",
   "version": "3.12.2"
  }
 },
 "nbformat": 4,
 "nbformat_minor": 2
}
