{
 "cells": [
  {
   "cell_type": "code",
   "execution_count": 1,
   "metadata": {},
   "outputs": [],
   "source": [
    "import subprocess\n",
    "import sys\n",
    "\n",
    "import json\n",
    "\n",
    "import numpy as np\n",
    "\n",
    "import timeit\n",
    "import matplotlib.pyplot as plt"
   ]
  },
  {
   "cell_type": "code",
   "execution_count": 2,
   "metadata": {},
   "outputs": [
    {
     "name": "stdout",
     "output_type": "stream",
     "text": [
      "[[ 0.90806217 -1.12210736  0.81088513]\n",
      " [-0.30877901  0.24100518  0.4002118 ]\n",
      " [-0.82135085 -0.70663526  0.94614158]\n",
      " [-0.41061916  1.65090848 -0.98328309]\n",
      " [ 0.43512441  0.0126393  -0.36581836]] [0. 1. 2.]\n"
     ]
    },
    {
     "data": {
      "text/plain": [
       "(1, array([-0.30877901,  0.24100518,  0.4002118 ]))"
      ]
     },
     "execution_count": 2,
     "metadata": {},
     "output_type": "execute_result"
    }
   ],
   "source": [
    "#### 61. Find the nearest value from a given value in an array (★★☆)\n",
    "# see also problem 50\n",
    "_rng = np.random.default_rng(0x2024_04_27)\n",
    "arr = _rng.normal(0, 1, (5, 3))\n",
    "vec = np.array([0, 1, 2]).astype(np.float64)\n",
    "print(arr, vec)\n",
    "\n",
    "deltas = arr - vec[np.newaxis, :]\n",
    "norms: np.ndarray = np.linalg.norm(deltas, axis = 1)\n",
    "\n",
    "idx = norms.argmin()\n",
    "idx, arr[idx, :]"
   ]
  },
  {
   "cell_type": "code",
   "execution_count": 3,
   "metadata": {},
   "outputs": [
    {
     "data": {
      "text/plain": [
       "array([0.92927792])"
      ]
     },
     "execution_count": 3,
     "metadata": {},
     "output_type": "execute_result"
    }
   ],
   "source": [
    "#### 62. Considering two arrays with shape (1,3) and (3,1), how to compute their sum using an iterator? (★★☆)\n",
    "_rng = np.random.default_rng(0x2024_04_27)\n",
    "_62_1 = _rng.normal(0, 1, (1, 3))\n",
    "_62_2 = _rng.normal(0, 1, (3, 1))\n",
    "\n",
    "sum(x + y for x, y in zip(_62_1[0], _62_2))"
   ]
  },
  {
   "cell_type": "code",
   "execution_count": 4,
   "metadata": {},
   "outputs": [
    {
     "name": "stdout",
     "output_type": "stream",
     "text": [
      "[1 2 3 4]\n",
      "Name: My Array\n"
     ]
    }
   ],
   "source": [
    "#### 63. Create an array class that has a name attribute (★★☆)\n",
    "class NamedArray(np.ndarray):\n",
    "    def __new__(cls, input_array, name=\"No Name\"):\n",
    "        obj = np.asarray(input_array).view(cls)\n",
    "        obj.name = name\n",
    "        return obj\n",
    "\n",
    "    def __array_finalize__(self, obj):\n",
    "        # This method is called when the object is created and it helps\n",
    "        # in setting up the additional attributes if they aren't explicitly set.\n",
    "        # Here, we copy the name attribute from the parent if it is not set.\n",
    "        if obj is None: return\n",
    "        self.name = getattr(obj, 'name', \"No Name\")\n",
    "\n",
    "arr = NamedArray([1, 2, 3, 4], name=\"My Array\")\n",
    "print(arr)\n",
    "print(\"Name:\", arr.name)"
   ]
  },
  {
   "cell_type": "code",
   "execution_count": 5,
   "metadata": {},
   "outputs": [
    {
     "name": "stdout",
     "output_type": "stream",
     "text": [
      "[ 0.90806217 -1.12210736  0.81088513 -0.30877901  0.24100518  0.4002118 ]\n",
      "[ 0.90806217 -0.12210736  0.81088513  1.69122099  0.24100518  1.4002118 ]\n"
     ]
    }
   ],
   "source": [
    "#### 64. Consider a given vector, how to add 1 to each element indexed by a second vector (be careful with repeated indices)? (★★★)\n",
    "_rng = np.random.default_rng(0x2024_04_27)\n",
    "_62 = _rng.normal(0, 1, 6)\n",
    "_62_idxs = np.array([1, 3, 3, 5])\n",
    "print(_62)\n",
    "np.add.at(_62, _62_idxs, 1)\n",
    "print(_62)"
   ]
  },
  {
   "cell_type": "code",
   "execution_count": 6,
   "metadata": {},
   "outputs": [],
   "source": [
    "#### 65. How to accumulate elements of a vector (X) to an array (F) based on an index list (I)? (★★★)"
   ]
  },
  {
   "cell_type": "code",
   "execution_count": 7,
   "metadata": {},
   "outputs": [
    {
     "data": {
      "text/plain": [
       "195075"
      ]
     },
     "execution_count": 7,
     "metadata": {},
     "output_type": "execute_result"
    }
   ],
   "source": [
    "#### 66. Considering a (w,h,3) image of (dtype=ubyte), compute the number of unique colors (★★☆)\n",
    "size_per_ubyte = np.iinfo(np.ubyte).max - np.iinfo(np.ubyte).min\n",
    "\n",
    "total_number = size_per_ubyte * size_per_ubyte * 3\n",
    "total_number"
   ]
  },
  {
   "cell_type": "code",
   "execution_count": 8,
   "metadata": {},
   "outputs": [
    {
     "data": {
      "text/plain": [
       "array([[-1.21213493, -5.42838849,  1.04099272],\n",
       "       [ 0.45355494, -0.0345347 ,  1.45636618]])"
      ]
     },
     "execution_count": 8,
     "metadata": {},
     "output_type": "execute_result"
    }
   ],
   "source": [
    "#### 67. Considering a four dimensions array, how to get sum over the last two axis at once? (★★★)\n",
    "_rng = np.random.default_rng(0x67)\n",
    "x = _rng.normal(0, 1, (2, 3, 2, 3))\n",
    "x.sum(axis = (2,3))"
   ]
  },
  {
   "cell_type": "code",
   "execution_count": 9,
   "metadata": {},
   "outputs": [
    {
     "name": "stdout",
     "output_type": "stream",
     "text": [
      "2.9826868736666405\n",
      "4.580794392099438\n"
     ]
    }
   ],
   "source": [
    "#### 69. How to get the diagonal of a dot product? (★★★)\n",
    "# Still WIP\n",
    "_rng = np.random.default_rng(0x67)\n",
    "x = _rng.normal(0, 1, (2, 3))\n",
    "y = _rng.normal(0, 1, (3, 2))\n",
    "\n",
    "diagonal = np.einsum('ij,jk->i', x, y)\n",
    "print(diagonal.sum())\n",
    "print((np.dot(x, y) * np.eye(2)).sum())"
   ]
  },
  {
   "cell_type": "code",
   "execution_count": 10,
   "metadata": {},
   "outputs": [],
   "source": [
    "#### 70. Consider the vector [1, 2, 3, 4, 5], how to build a new vector with 3 consecutive zeros interleaved between each value? (★★★)"
   ]
  }
 ],
 "metadata": {
  "kernelspec": {
   "display_name": ".venv",
   "language": "python",
   "name": "python3"
  },
  "language_info": {
   "codemirror_mode": {
    "name": "ipython",
    "version": 3
   },
   "file_extension": ".py",
   "mimetype": "text/x-python",
   "name": "python",
   "nbconvert_exporter": "python",
   "pygments_lexer": "ipython3",
   "version": "3.12.2"
  }
 },
 "nbformat": 4,
 "nbformat_minor": 2
}
