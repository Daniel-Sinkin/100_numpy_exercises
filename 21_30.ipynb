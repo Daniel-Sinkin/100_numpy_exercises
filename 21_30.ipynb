{
 "cells": [
  {
   "cell_type": "code",
   "execution_count": 1,
   "metadata": {},
   "outputs": [],
   "source": [
    "import subprocess\n",
    "import sys\n",
    "\n",
    "import json\n",
    "\n",
    "import numpy as np"
   ]
  },
  {
   "cell_type": "code",
   "execution_count": 2,
   "metadata": {},
   "outputs": [
    {
     "data": {
      "text/plain": [
       "array([[1, 0, 1, 0, 1, 0, 1, 0],\n",
       "       [0, 1, 0, 1, 0, 1, 0, 1],\n",
       "       [1, 0, 1, 0, 1, 0, 1, 0],\n",
       "       [0, 1, 0, 1, 0, 1, 0, 1],\n",
       "       [1, 0, 1, 0, 1, 0, 1, 0],\n",
       "       [0, 1, 0, 1, 0, 1, 0, 1],\n",
       "       [1, 0, 1, 0, 1, 0, 1, 0],\n",
       "       [0, 1, 0, 1, 0, 1, 0, 1]])"
      ]
     },
     "execution_count": 2,
     "metadata": {},
     "output_type": "execute_result"
    }
   ],
   "source": [
    "#### 21. Create a checkerboard 8x8 matrix using the tile function (★☆☆)\n",
    "_21_1 = np.tile(np.array([1, 0]), reps = 4)\n",
    "_21_2 = np.tile(np.array([0, 1]), reps = 4)\n",
    "_21 = np.tile(np.append(_21_1, _21_2), reps=4).reshape((8, 8))\n",
    "_21"
   ]
  },
  {
   "cell_type": "code",
   "execution_count": 3,
   "metadata": {},
   "outputs": [
    {
     "data": {
      "text/plain": [
       "array([[ 1.739852  ,  0.86338425, -1.4894558 ,  0.60314035,  0.02721341],\n",
       "       [ 1.456262  , -1.3759916 , -0.10561122, -0.0201347 ,  1.6831282 ],\n",
       "       [ 1.2389948 ,  0.24433719, -1.2423449 ,  1.010823  , -0.8948504 ],\n",
       "       [-0.4989425 , -1.2239528 , -0.8033057 ,  0.01482   , -0.7675207 ],\n",
       "       [-0.8318708 ,  0.6666091 ,  0.36170393, -1.4146595 ,  0.75837195]],\n",
       "      dtype=float32)"
      ]
     },
     "execution_count": 3,
     "metadata": {},
     "output_type": "execute_result"
    }
   ],
   "source": [
    "#### 22. Normalize a 5x5 random matrix (★☆☆)\n",
    "_rng = np.random.default_rng(0x42)\n",
    "_22 = _rng.uniform(-10, 10, size = (5, 5)).astype(np.float32)\n",
    "_22_mean = _22.mean()\n",
    "_22_std = _22.std()\n",
    "_22 = (_22 - _22_mean) / (_22_std)\n",
    "assert np.isclose(_22.mean(), 0.0, atol = 1e-5)\n",
    "assert np.isclose(_22.std(), 1.0, atol = 1e-5)\n",
    "_22"
   ]
  },
  {
   "cell_type": "code",
   "execution_count": 4,
   "metadata": {},
   "outputs": [
    {
     "name": "stdout",
     "output_type": "stream",
     "text": [
      "Custom dtype: [('r', 'u1'), ('g', 'u1'), ('b', 'u1'), ('a', 'u1')]\n",
      "Example RGBA color: (255, 0, 0, 128)\n"
     ]
    }
   ],
   "source": [
    "#### 23. Create a custom dtype that describes a color as four unsigned bytes (RGBA) (★☆☆)\n",
    "_23_rgba_color_dtype = np.dtype([\n",
    "    ('r', np.uint8),  # Red channel\n",
    "    ('g', np.uint8),  # Green channel\n",
    "    ('b', np.uint8),  # Blue channel\n",
    "    ('a', np.uint8)   # Alpha channel for transparency\n",
    "])\n",
    "example_color = np.array((255, 0, 0, 128), dtype=_23_rgba_color_dtype)\n",
    "\n",
    "print(\"Custom dtype:\", _23_rgba_color_dtype)\n",
    "print(\"Example RGBA color:\", example_color)"
   ]
  },
  {
   "cell_type": "code",
   "execution_count": 5,
   "metadata": {},
   "outputs": [
    {
     "data": {
      "text/plain": [
       "array([[-0.64113077, -0.03731875],\n",
       "       [-2.04442066,  0.06507782],\n",
       "       [-0.36025289,  0.02977759],\n",
       "       [-0.71406571,  0.0167476 ],\n",
       "       [ 3.44711721, -0.19350569]])"
      ]
     },
     "execution_count": 5,
     "metadata": {},
     "output_type": "execute_result"
    }
   ],
   "source": [
    "#### 24. Multiply a 5x3 matrix by a 3x2 matrix (real matrix product) (★☆☆)\n",
    "_rng = np.random.default_rng(0x42)\n",
    "_24_1 = _rng.normal(0, 1.0, size = (5, 3))\n",
    "_24_2 = _rng.normal(0, 1.0, size = (3, 2))\n",
    "_24 = _24_1 @ _24_2 # alternativey np.matmul(_24_1, _24_2)\n",
    "_24"
   ]
  },
  {
   "cell_type": "code",
   "execution_count": 6,
   "metadata": {},
   "outputs": [
    {
     "data": {
      "text/plain": [
       "array([-6.62309994, -3.38024749, -3.52185431,  1.8212437 ,  1.02195715,\n",
       "        0.34473778, -6.50548414,  8.35884881, -6.32313812, -5.85645503,\n",
       "       -5.87884011, -4.62317105, -7.91871186,  2.67128556,  8.21535528,\n",
       "       -4.52951634, -4.83424769,  1.32495589, -5.23976928, 12.41415202])"
      ]
     },
     "execution_count": 6,
     "metadata": {},
     "output_type": "execute_result"
    }
   ],
   "source": [
    "#### 25. Given a 1D array, negate all elements which are between 3 and 8, in place. (★☆☆)\n",
    "_rng = np.random.default_rng(0x42)\n",
    "_25 = _rng.normal(5, 3, size = 20)\n",
    "_25 = np.where((_25 >= 3) & (_25 <= 8), -_25, _25)\n",
    "_25"
   ]
  },
  {
   "cell_type": "code",
   "execution_count": 8,
   "metadata": {},
   "outputs": [],
   "source": [
    "#### 26. What is the output of the following script? (★☆☆)\n",
    "assert 9 == sum(range(5),-1)\n",
    "from numpy import *\n",
    "assert 10 == sum(range(5),-1)\n",
    "\n",
    "# Reason for this is that we overwrite the python internal sum by the numpy sum:\n",
    "from numpy import sum as np_sum\n",
    "assert 10 == np_sum(range(5), -1)\n",
    "\n",
    "from builtins import *\n",
    "assert 9 == sum(range(5),-1)"
   ]
  },
  {
   "cell_type": "code",
   "execution_count": 28,
   "metadata": {},
   "outputs": [
    {
     "name": "stdout",
     "output_type": "stream",
     "text": [
      "Trying to take integeger power to negative exponent.\n",
      "Ambiguous Truth value\n"
     ]
    }
   ],
   "source": [
    "#### 27. Consider an integer vector Z, which of these expressions are legal? (★☆☆)\n",
    "Z = np.array([0, -1, 3, 8, 12], dtype=np.int32)\n",
    "try:\n",
    "    Z**Z\n",
    "except ValueError:\n",
    "    print(\"Trying to take integeger power to negative exponent.\")\n",
    "assert ((2 << Z >> 2) == ((2 << Z) >> 2)).all()\n",
    "assert ((Z <- Z) == (Z < (-Z))).all()\n",
    "1j*Z # 1j is complex unit we get j * Z basically here\n",
    "(((Z / 2) / 3) == (Z/2/3)).all()\n",
    "try:\n",
    "    Z<Z>Z\n",
    "except ValueError:\n",
    "    print(\"Ambiguous Truth value\")"
   ]
  },
  {
   "cell_type": "code",
   "execution_count": 35,
   "metadata": {},
   "outputs": [
    {
     "name": "stderr",
     "output_type": "stream",
     "text": [
      "/var/folders/dq/z5syqybd1z96g4ny_n5nr9rc0000gn/T/ipykernel_4189/879970688.py:3: RuntimeWarning: invalid value encountered in divide\n",
      "  _28_1 = np.array(0) / np.array(0)\n",
      "/var/folders/dq/z5syqybd1z96g4ny_n5nr9rc0000gn/T/ipykernel_4189/879970688.py:5: RuntimeWarning: divide by zero encountered in floor_divide\n",
      "  _28_2 = np.array(0) // np.array(0)\n",
      "/var/folders/dq/z5syqybd1z96g4ny_n5nr9rc0000gn/T/ipykernel_4189/879970688.py:7: RuntimeWarning: invalid value encountered in cast\n",
      "  _28_3 = np.array([np.nan]).astype(int).astype(float)\n"
     ]
    },
    {
     "data": {
      "text/plain": [
       "(nan, 0, array([0.]))"
      ]
     },
     "execution_count": 35,
     "metadata": {},
     "output_type": "execute_result"
    }
   ],
   "source": [
    "#### 28. What are the result of the following expressions? (★☆☆)\n",
    "# Div0 -> nan\n",
    "_28_1 = np.array(0) / np.array(0)\n",
    "# Div0 -> 0\n",
    "_28_2 = np.array(0) // np.array(0)\n",
    "# Div0 -> [0.]\n",
    "_28_3 = np.array([np.nan]).astype(int).astype(float)\n",
    "\n",
    "_28_1, _28_2, _28_3"
   ]
  },
  {
   "cell_type": "code",
   "execution_count": 40,
   "metadata": {},
   "outputs": [
    {
     "data": {
      "text/plain": [
       "array([ 1., -1., -1., -2., -2., -2.,  1.,  2.,  1.,  1.])"
      ]
     },
     "execution_count": 40,
     "metadata": {},
     "output_type": "execute_result"
    }
   ],
   "source": [
    "#### 29. How to round away from zero a float array ? (★☆☆)\n",
    "_rng = np.random.default_rng(0x42)\n",
    "_29 = _rng.normal(0, 1.0, size = 10)\n",
    "np.where(_29 > 0, np.ceil(_29), np.floor(_29))"
   ]
  },
  {
   "cell_type": "code",
   "execution_count": 91,
   "metadata": {},
   "outputs": [],
   "source": [
    "#### 30. How to find common values between two arrays? (★☆☆)\n",
    "_rng = np.random.default_rng(0x42)\n",
    "_30_1 = np.arange(-12, 5)\n",
    "_rng.shuffle(_30_1)\n",
    "_30_2 = np.arange(-3, 20)\n",
    "_rng.shuffle(_30_2)\n",
    "\n",
    "_30_shared = _30_1[np.nonzero(np.where(np.isin(_30_1, _30_2), 1, 0))]\n",
    "\n",
    "# Alternatively this can be solved by using np.intersectid\n",
    "_30_shared_alternative = np.intersect1d(_30_1, _30_2)\n",
    "\n",
    "assert set(_30_shared) == set(_30_shared_alternative)"
   ]
  },
  {
   "cell_type": "code",
   "execution_count": null,
   "metadata": {},
   "outputs": [],
   "source": []
  }
 ],
 "metadata": {
  "kernelspec": {
   "display_name": ".venv",
   "language": "python",
   "name": "python3"
  },
  "language_info": {
   "codemirror_mode": {
    "name": "ipython",
    "version": 3
   },
   "file_extension": ".py",
   "mimetype": "text/x-python",
   "name": "python",
   "nbconvert_exporter": "python",
   "pygments_lexer": "ipython3",
   "version": "3.12.2"
  }
 },
 "nbformat": 4,
 "nbformat_minor": 2
}
