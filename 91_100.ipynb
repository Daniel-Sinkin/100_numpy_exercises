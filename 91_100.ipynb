{
 "cells": [
  {
   "cell_type": "code",
   "execution_count": 1,
   "metadata": {},
   "outputs": [],
   "source": [
    "import subprocess\n",
    "import sys\n",
    "\n",
    "import json\n",
    "\n",
    "import numpy as np\n",
    "\n",
    "import timeit\n",
    "import matplotlib.pyplot as plt"
   ]
  },
  {
   "cell_type": "code",
   "execution_count": 3,
   "metadata": {},
   "outputs": [
    {
     "data": {
      "text/plain": [
       "[array([0., 1.]),\n",
       " array([0.1, 1.1]),\n",
       " array([0.2, 1.2]),\n",
       " array([0.3, 1.3]),\n",
       " array([0.4, 1.4]),\n",
       " array([0.5, 1.5]),\n",
       " array([0.6, 1.6]),\n",
       " array([0.7, 1.7]),\n",
       " array([0.8, 1.8]),\n",
       " array([0.9, 1.9]),\n",
       " array([1., 2.])]"
      ]
     },
     "execution_count": 3,
     "metadata": {},
     "output_type": "execute_result"
    }
   ],
   "source": [
    "#### 98. Considering a path described by two vectors (X,Y), how to sample it using equidistant samples (★★★)?\n",
    "_98_X = np.array([1.0, 2.0])\n",
    "_98_Y = np.array([0.0, 1.0])\n",
    "\n",
    "v = _98_X - _98_Y\n",
    "_norm = np.linalg.norm(v)\n",
    "v = v / _norm\n",
    "\n",
    "# Samples 1 more so we get both end point\n",
    "n_samples = 10\n",
    "dt = _norm / n_samples\n",
    "\n",
    "samples = [_98_Y + i * dt * v for i in range(n_samples + 1)]\n",
    "samples"
   ]
  },
  {
   "cell_type": "code",
   "execution_count": null,
   "metadata": {},
   "outputs": [],
   "source": []
  }
 ],
 "metadata": {
  "kernelspec": {
   "display_name": ".venv",
   "language": "python",
   "name": "python3"
  },
  "language_info": {
   "codemirror_mode": {
    "name": "ipython",
    "version": 3
   },
   "file_extension": ".py",
   "mimetype": "text/x-python",
   "name": "python",
   "nbconvert_exporter": "python",
   "pygments_lexer": "ipython3",
   "version": "3.12.2"
  }
 },
 "nbformat": 4,
 "nbformat_minor": 2
}
